{
 "cells": [
  {
   "cell_type": "code",
   "execution_count": null,
   "metadata": {},
   "outputs": [],
   "source": []
  },
  {
   "cell_type": "code",
   "execution_count": 28,
   "metadata": {},
   "outputs": [],
   "source": [
    "import random\n",
    "class Student:\n",
    "    def __init__(self, studentNumber, studentName, courseCode):\n",
    "        self.studentNumber = studentNumber;\n",
    "        self.studentName = studentName;\n",
    "        self.courseCode = courseCode;\n",
    "        \n",
    "stuList=[]    \n",
    "def registerStudents():\n",
    "    while True:\n",
    "        try:            \n",
    "            studentNumber = str(input('Enter the Student Number '))\n",
    "            \n",
    "            if(len(studentNumber) != 8):\n",
    "                print(\"Student Number length is wrong...!\")\n",
    "                raise ValueError()\n",
    "                \n",
    "                \n",
    "            validStuNumber = int(studentNumber) \n",
    "            \n",
    "            studentName = str(input('Enter the Student Name '))\n",
    "            \n",
    "            courseCode = str(input('Enter the Subject Code '))\n",
    "            \n",
    "            if(len(courseCode) != 7):\n",
    "                print(\"Course code is invalid...!\")\n",
    "                raise ValueError()\n",
    "                     \n",
    "            else:    \n",
    "                s = Student(validStuNumber,studentName,courseCode)\n",
    "                stuList.append(s)\n",
    "                userInput = str(input('Do you want to add another student? (y/n)'))\n",
    "                if(userInput == 'y'):\n",
    "                    registerStudents()\n",
    "                if(userInput == 'n'):\n",
    "                    break\n",
    "                else:    \n",
    "                    break   \n",
    "        \n",
    "        except ValueError:\n",
    "            print(\"invalid Input...!\")               \n",
    "\n",
    "    return stuList\n",
    "\n",
    "\n",
    "def retrieve():\n",
    "    \n",
    "    #registerStudents()\n",
    "    \n",
    "    randomStudentsGenerator()\n",
    "    \n",
    "    doSlectionSort(stuList) \n",
    "     \n",
    "    lowestNumberStudent = stuList[0]\n",
    "    print(\"Lowest Student Number..:- %i\"%(lowestNumberStudent.studentNumber))\n",
    "    stuList.remove(lowestNumberStudent)    \n",
    "    userInput = str(input('Do you want to add one more student? (y/n)'))\n",
    "    \n",
    "    if(userInput == 'y'):\n",
    "        studentNumber = int(input('Enter the Student Number '))\n",
    "        studentName = str(input('Enter the Student Name '))\n",
    "        courseCode = str(input('Enter the Subject Code '))\n",
    "        s = Student(studentNumber,studentName,courseCode)\n",
    "        stuList.append(s)\n",
    "        doInsertionSort(stuList)\n",
    "    if(userInput == 'n'):\n",
    "        return stuList    \n",
    "    \n",
    "    return stuList\n",
    "\n",
    "\n",
    "\n",
    "def doSlectionSort(stuList):\n",
    "    \n",
    "    for i in range(len(stuList)):                    \n",
    "        \n",
    "        min_index = i \n",
    "        for j in range(i+1, len(stuList)): \n",
    "            if stuList[min_index].studentNumber > stuList[j].studentNumber: \n",
    "                min_index = j               \n",
    "        stuList[i], stuList[min_index] = stuList[min_index], stuList[i]\n",
    "        \n",
    "\n",
    "\n",
    "def doInsertionSort(stuList):\n",
    "    \n",
    "    for i in range(1, len(stuList)): \n",
    "  \n",
    "        key = stuList[i].studentNumber   \n",
    "        j = i-1\n",
    "        while j >= 0 and key < stuList[j].studentNumber : \n",
    "                stuList[j + 1].studentNumber = stuList[j].studentNumber \n",
    "                j -= 1\n",
    "        stuList[j + 1].studentNumber = key\n",
    "    \n",
    "    lowestNumberStudent = stuList[0]\n",
    "    print(\"New Lowest Student Number..:- %i\"%(lowestNumberStudent.studentNumber))\n",
    "    stuList.remove(lowestNumberStudent)    \n",
    "    \n",
    "\n",
    "def randomStudentsGenerator():    \n",
    "    for x in range(0,5):    \n",
    "        number = random.randint(10000000, 99999999)\n",
    "        name = \"st:%i\"%number\n",
    "        coursecode = \"ABC1234\"       \n",
    "    \n",
    "        s = Student(number, name, coursecode)\n",
    "        stuList.append(s)\n",
    "\n",
    "      "
   ]
  },
  {
   "cell_type": "code",
   "execution_count": 30,
   "metadata": {},
   "outputs": [
    {
     "name": "stdout",
     "output_type": "stream",
     "text": [
      "Lowest Student Number..:- 18089471\n",
      "Do you want to add one more student? (y/n)y\n",
      "Enter the Student Number 20987654\n",
      "Enter the Student Name jyfgfh\n",
      "Enter the Subject Code 4r5t676\n"
     ]
    },
    {
     "ename": "NameError",
     "evalue": "name 'lowestNumberStudent' is not defined",
     "output_type": "error",
     "traceback": [
      "\u001b[1;31m---------------------------------------------------------------------------\u001b[0m",
      "\u001b[1;31mNameError\u001b[0m                                 Traceback (most recent call last)",
      "\u001b[1;32m<ipython-input-30-b045bc3548b4>\u001b[0m in \u001b[0;36m<module>\u001b[1;34m\u001b[0m\n\u001b[1;32m----> 1\u001b[1;33m \u001b[0mretrieve\u001b[0m\u001b[1;33m(\u001b[0m\u001b[1;33m)\u001b[0m\u001b[1;33m\u001b[0m\u001b[1;33m\u001b[0m\u001b[0m\n\u001b[0m",
      "\u001b[1;32m<ipython-input-28-5b16a2fd1d52>\u001b[0m in \u001b[0;36mretrieve\u001b[1;34m()\u001b[0m\n\u001b[0;32m     63\u001b[0m         \u001b[0ms\u001b[0m \u001b[1;33m=\u001b[0m \u001b[0mStudent\u001b[0m\u001b[1;33m(\u001b[0m\u001b[0mstudentNumber\u001b[0m\u001b[1;33m,\u001b[0m\u001b[0mstudentName\u001b[0m\u001b[1;33m,\u001b[0m\u001b[0mcourseCode\u001b[0m\u001b[1;33m)\u001b[0m\u001b[1;33m\u001b[0m\u001b[1;33m\u001b[0m\u001b[0m\n\u001b[0;32m     64\u001b[0m         \u001b[0mstuList\u001b[0m\u001b[1;33m.\u001b[0m\u001b[0mappend\u001b[0m\u001b[1;33m(\u001b[0m\u001b[0ms\u001b[0m\u001b[1;33m)\u001b[0m\u001b[1;33m\u001b[0m\u001b[1;33m\u001b[0m\u001b[0m\n\u001b[1;32m---> 65\u001b[1;33m         \u001b[0mdoInsertionSort\u001b[0m\u001b[1;33m(\u001b[0m\u001b[0mstuList\u001b[0m\u001b[1;33m)\u001b[0m\u001b[1;33m\u001b[0m\u001b[1;33m\u001b[0m\u001b[0m\n\u001b[0m\u001b[0;32m     66\u001b[0m     \u001b[1;32mif\u001b[0m\u001b[1;33m(\u001b[0m\u001b[0muserInput\u001b[0m \u001b[1;33m==\u001b[0m \u001b[1;34m'n'\u001b[0m\u001b[1;33m)\u001b[0m\u001b[1;33m:\u001b[0m\u001b[1;33m\u001b[0m\u001b[1;33m\u001b[0m\u001b[0m\n\u001b[0;32m     67\u001b[0m         \u001b[1;32mreturn\u001b[0m \u001b[0mstuList\u001b[0m\u001b[1;33m\u001b[0m\u001b[1;33m\u001b[0m\u001b[0m\n",
      "\u001b[1;32m<ipython-input-28-5b16a2fd1d52>\u001b[0m in \u001b[0;36mdoInsertionSort\u001b[1;34m(stuList)\u001b[0m\n\u001b[0;32m     95\u001b[0m \u001b[1;33m\u001b[0m\u001b[0m\n\u001b[0;32m     96\u001b[0m     \u001b[0mlowesNumberStudent\u001b[0m \u001b[1;33m=\u001b[0m \u001b[0mstuList\u001b[0m\u001b[1;33m[\u001b[0m\u001b[1;36m0\u001b[0m\u001b[1;33m]\u001b[0m\u001b[1;33m\u001b[0m\u001b[1;33m\u001b[0m\u001b[0m\n\u001b[1;32m---> 97\u001b[1;33m     \u001b[0mprint\u001b[0m\u001b[1;33m(\u001b[0m\u001b[1;34m\"New Lowest Student Number..:- %i\"\u001b[0m\u001b[1;33m%\u001b[0m\u001b[1;33m(\u001b[0m\u001b[0mlowestNumberStudent\u001b[0m\u001b[1;33m.\u001b[0m\u001b[0mstudentNumber\u001b[0m\u001b[1;33m)\u001b[0m\u001b[1;33m)\u001b[0m\u001b[1;33m\u001b[0m\u001b[1;33m\u001b[0m\u001b[0m\n\u001b[0m\u001b[0;32m     98\u001b[0m     \u001b[0mstuList\u001b[0m\u001b[1;33m.\u001b[0m\u001b[0mremove\u001b[0m\u001b[1;33m(\u001b[0m\u001b[0mlowestNumberStudent\u001b[0m\u001b[1;33m)\u001b[0m\u001b[1;33m\u001b[0m\u001b[1;33m\u001b[0m\u001b[0m\n\u001b[0;32m     99\u001b[0m \u001b[1;33m\u001b[0m\u001b[0m\n",
      "\u001b[1;31mNameError\u001b[0m: name 'lowestNumberStudent' is not defined"
     ]
    }
   ],
   "source": [
    "retrieve()"
   ]
  },
  {
   "cell_type": "markdown",
   "metadata": {},
   "source": [
    "\n",
    "\n"
   ]
  },
  {
   "cell_type": "code",
   "execution_count": null,
   "metadata": {},
   "outputs": [],
   "source": [
    "\n"
   ]
  }
 ],
 "metadata": {
  "kernelspec": {
   "display_name": "Python 3",
   "language": "python",
   "name": "python3"
  },
  "language_info": {
   "codemirror_mode": {
    "name": "ipython",
    "version": 3
   },
   "file_extension": ".py",
   "mimetype": "text/x-python",
   "name": "python",
   "nbconvert_exporter": "python",
   "pygments_lexer": "ipython3",
   "version": "3.7.3"
  }
 },
 "nbformat": 4,
 "nbformat_minor": 2
}
