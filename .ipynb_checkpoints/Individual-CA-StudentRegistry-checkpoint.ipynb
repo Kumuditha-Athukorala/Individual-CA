{
 "cells": [
  {
   "cell_type": "code",
   "execution_count": null,
   "metadata": {},
   "outputs": [],
   "source": []
  },
  {
   "cell_type": "code",
   "execution_count": 1,
   "metadata": {},
   "outputs": [],
   "source": [
    "class Student:\n",
    "    def __init__(self, studentNumber, studentName, courseCode):\n",
    "        self.studentNumber = studentNumber;\n",
    "        self.studentName = studentName;\n",
    "        self.courseCode = courseCode;\n",
    "        \n",
    "stuList=[]    \n",
    "def registerStudents():\n",
    "    while True:\n",
    "        try:            \n",
    "            studentNumber = str(input('Enter the Student Number '))\n",
    "            \n",
    "            if(len(studentNumber) != 8):\n",
    "                print(\"Student Number length is wrong...!\")\n",
    "                raise ValueError()\n",
    "                \n",
    "                \n",
    "            validStuNumber = int(studentNumber) \n",
    "            \n",
    "            studentName = str(input('Enter the Student Name '))\n",
    "            \n",
    "            courseCode = str(input('Enter the Subject Code '))\n",
    "            \n",
    "            if(len(courseCode) != 7):\n",
    "                print(\"Course code is invalid...!\")\n",
    "                raise ValueError()\n",
    "                     \n",
    "            else:    \n",
    "                s = Student(validStuNumber,studentName,courseCode)\n",
    "                stuList.append(s)\n",
    "                userInput = str(input('Do you want to add another student? (y/n)'))\n",
    "                if(userInput == 'y'):\n",
    "                    registerStudents()\n",
    "                if(userInput == 'n'):\n",
    "                    break\n",
    "                else:    \n",
    "                    break   \n",
    "        \n",
    "        except ValueError:\n",
    "            print(\"invalid Input...!\")               \n",
    "\n",
    "    return stuList\n",
    "\n",
    "stuNumbers=[]\n",
    "def getLowestStudentNumber():\n",
    "    for st in stuList:\n",
    "        stuNumbers.append(st.studentNumber)   \n",
    "        x = stuNumbers[0]\n",
    "        for i in stuNumbers:\n",
    "            if(x >= i):\n",
    "                x=i\n",
    "        return x; "
   ]
  },
  {
   "cell_type": "code",
   "execution_count": 2,
   "metadata": {},
   "outputs": [
    {
     "name": "stdout",
     "output_type": "stream",
     "text": [
      "Enter the Student Number 54637281\n",
      "Enter the Student Name hdyter\n",
      "Enter the Subject Code d34253\n",
      "Course code is invalid...!\n",
      "invalid Input...!\n",
      "Enter the Student Number 23456271\n",
      "Enter the Student Name evrg\n",
      "Enter the Subject Code w234253\n",
      "Do you want to add another student? (y/n)y\n",
      "Enter the Student Number 54637281\n",
      "Enter the Student Name fgrty\n",
      "Enter the Subject Code e345238\n",
      "Do you want to add another student? (y/n)y\n",
      "Enter the Student Number 45639123\n",
      "Enter the Student Name fhryt\n",
      "Enter the Subject Code e534273\n",
      "Do you want to add another student? (y/n)y\n",
      "Enter the Student Number 15483926\n",
      "Enter the Student Name gftryeh\n",
      "Enter the Subject Code e435236\n",
      "Do you want to add another student? (y/n)y\n",
      "Enter the Student Number 37456478\n",
      "Enter the Student Name etrjgik\n",
      "Enter the Subject Code d856748\n",
      "Do you want to add another student? (y/n)fr\n"
     ]
    },
    {
     "data": {
      "text/plain": [
       "[<__main__.Student at 0x1ae2f9b42e8>,\n",
       " <__main__.Student at 0x1ae2fa6afd0>,\n",
       " <__main__.Student at 0x1ae2fa8fa20>,\n",
       " <__main__.Student at 0x1ae2fa8fb70>,\n",
       " <__main__.Student at 0x1ae2fa8fc88>]"
      ]
     },
     "execution_count": 2,
     "metadata": {},
     "output_type": "execute_result"
    }
   ],
   "source": [
    "registerStudents()"
   ]
  },
  {
   "cell_type": "code",
   "execution_count": null,
   "metadata": {},
   "outputs": [],
   "source": []
  }
 ],
 "metadata": {
  "kernelspec": {
   "display_name": "Python 3",
   "language": "python",
   "name": "python3"
  },
  "language_info": {
   "codemirror_mode": {
    "name": "ipython",
    "version": 3
   },
   "file_extension": ".py",
   "mimetype": "text/x-python",
   "name": "python",
   "nbconvert_exporter": "python",
   "pygments_lexer": "ipython3",
   "version": "3.7.3"
  }
 },
 "nbformat": 4,
 "nbformat_minor": 2
}
