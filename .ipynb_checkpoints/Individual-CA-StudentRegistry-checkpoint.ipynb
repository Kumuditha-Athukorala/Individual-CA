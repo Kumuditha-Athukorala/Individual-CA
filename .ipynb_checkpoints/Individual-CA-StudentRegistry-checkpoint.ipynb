{
 "cells": [
  {
   "cell_type": "code",
   "execution_count": null,
   "metadata": {},
   "outputs": [],
   "source": []
  },
  {
   "cell_type": "code",
   "execution_count": 20,
   "metadata": {},
   "outputs": [],
   "source": [
    "import random\n",
    "class Student:\n",
    "    def __init__(self, studentNumber, studentName, courseCode):\n",
    "        self.studentNumber = studentNumber;\n",
    "        self.studentName = studentName;\n",
    "        self.courseCode = courseCode;\n",
    "        \n",
    "stuList=[]    \n",
    "def registerStudents():\n",
    "    while True:\n",
    "        try:            \n",
    "            studentNumber = str(input('Enter the Student Number '))\n",
    "            \n",
    "            if(len(studentNumber) != 8):\n",
    "                print(\"Student Number length is wrong...!\")\n",
    "                raise ValueError()\n",
    "                \n",
    "                \n",
    "            validStuNumber = int(studentNumber) \n",
    "            \n",
    "            studentName = str(input('Enter the Student Name '))\n",
    "            \n",
    "            courseCode = str(input('Enter the Subject Code '))\n",
    "            \n",
    "            if(len(courseCode) != 7):\n",
    "                print(\"Course code is invalid...!\")\n",
    "                raise ValueError()\n",
    "                     \n",
    "            else:    \n",
    "                s = Student(validStuNumber,studentName,courseCode)\n",
    "                stuList.append(s)\n",
    "                userInput = str(input('Do you want to add another student? (y/n)'))\n",
    "                if(userInput == 'y'):\n",
    "                    registerStudents()\n",
    "                if(userInput == 'n'):\n",
    "                    break\n",
    "                else:    \n",
    "                    break   \n",
    "        \n",
    "        except ValueError:\n",
    "            print(\"invalid Input...!\")               \n",
    "\n",
    "    return stuList\n",
    "\n",
    "\n",
    "def retrieve():\n",
    "    \n",
    "    #registerStudents()\n",
    "    \n",
    "    randomStudentsGenerator()\n",
    "    \n",
    "    for i in range(len(stuList)):                    \n",
    "        \n",
    "        min_index = i \n",
    "        for j in range(i+1, len(stuList)): \n",
    "            if stuList[min_index].studentNumber > stuList[j].studentNumber: \n",
    "                min_index = j              \n",
    "                \n",
    "        stuList[i], stuList[min_index] = stuList[min_index], stuList[i] \n",
    "     \n",
    "    lowesNumberStudent = stuList[0]\n",
    "    print(\"Lowest Student Number..:- %i\"%(lowesNumberStudent.studentNumber))\n",
    "    stuList.remove(lowesNumberStudent)\n",
    "    \n",
    "    userInput = str(input('Do you want to add one more student? (y/n)'))\n",
    "    if(userInput == 'y'):\n",
    "        studentNumber = int(input('Enter the Student Number '))\n",
    "        studentName = str(input('Enter the Student Name '))\n",
    "        courseCode = str(input('Enter the Subject Code '))\n",
    "        s = Student(studentNumber,studentName,courseCode)\n",
    "        stuList.append(s)\n",
    "        doInsertionSort(stuList)\n",
    "    if(userInput == 'n'):\n",
    "        return stuList    \n",
    "    \n",
    "    return stuList\n",
    "\n",
    "\n",
    "def doInsertionSort(stuList):\n",
    "    \n",
    "    for i in range(1, len(stuList)): \n",
    "  \n",
    "        key = stuList[i].studentNumber \n",
    "  \n",
    "        j = i-1\n",
    "        while j >= 0 and key < stuList[j].studentNumber : \n",
    "                stuList[j + 1].studentNumber = stuList[j].studentNumber \n",
    "                j -= 1\n",
    "        stuList[j + 1].studentNumber = key\n",
    "    \n",
    "    lowesNumberStudent = stuList[0]\n",
    "    print(\"New Lowest Student Number..:- %i\"%(lowesNumberStudent.studentNumber))\n",
    "    stuList.remove(lowesNumberStudent)    \n",
    "    \n",
    "\n",
    "def randomStudentsGenerator():    \n",
    "    for x in range(0,5):    \n",
    "        number = random.randint(10000000, 99999999)\n",
    "        name = \"st:%i\"%number\n",
    "        coursecode = \"ABC1234\"       \n",
    "    \n",
    "        s = Student(number, name, coursecode)\n",
    "        stuList.append(s)\n",
    "\n",
    "      "
   ]
  },
  {
   "cell_type": "code",
   "execution_count": 21,
   "metadata": {},
   "outputs": [
    {
     "name": "stdout",
     "output_type": "stream",
     "text": [
      "Lowest Student Number..:- 26511058\n",
      "Do you want to add one more student? (y/n)y\n",
      "Enter the Student Number 34543234\n",
      "Enter the Student Name hgfg\n",
      "Enter the Subject Code 76y5t89\n",
      "New Lowest Student Number..:- 34543234\n"
     ]
    },
    {
     "data": {
      "text/plain": [
       "[<__main__.Student at 0x1a9e2ee1da0>,\n",
       " <__main__.Student at 0x1a9e2ee1518>,\n",
       " <__main__.Student at 0x1a9e2ee1400>,\n",
       " <__main__.Student at 0x1a9e2ee1cf8>]"
      ]
     },
     "execution_count": 21,
     "metadata": {},
     "output_type": "execute_result"
    }
   ],
   "source": [
    "retrieve()"
   ]
  },
  {
   "cell_type": "markdown",
   "metadata": {},
   "source": [
    "\n",
    "\n"
   ]
  },
  {
   "cell_type": "code",
   "execution_count": null,
   "metadata": {},
   "outputs": [],
   "source": [
    "\n"
   ]
  }
 ],
 "metadata": {
  "kernelspec": {
   "display_name": "Python 3",
   "language": "python",
   "name": "python3"
  },
  "language_info": {
   "codemirror_mode": {
    "name": "ipython",
    "version": 3
   },
   "file_extension": ".py",
   "mimetype": "text/x-python",
   "name": "python",
   "nbconvert_exporter": "python",
   "pygments_lexer": "ipython3",
   "version": "3.7.3"
  }
 },
 "nbformat": 4,
 "nbformat_minor": 2
}
