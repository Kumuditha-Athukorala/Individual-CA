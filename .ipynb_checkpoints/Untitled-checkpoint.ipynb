{
 "cells": [
  {
   "cell_type": "code",
   "execution_count": 10,
   "metadata": {},
   "outputs": [],
   "source": [
    "class Student:\n",
    "    def __init__(self, studentNumber, studentName, courseCode):\n",
    "        self.studentNumber = studentNumber;\n",
    "        self.studentName = studentName;\n",
    "        self.courseCode = courseCode;\n",
    "        \n",
    "stuList=[]    \n",
    "def registerStudents():\n",
    "    while True:\n",
    "        try:            \n",
    "            studentNumber = str(input('Enter the Student Number '))\n",
    "            \n",
    "            if(len(studentNumber) != 8):\n",
    "                print(\"Student Number length is wrong...!\")\n",
    "                raise ValueError()\n",
    "                \n",
    "                \n",
    "            validStuNumber = int(studentNumber) \n",
    "            \n",
    "            studentName = str(input('Enter the Student Name '))\n",
    "            \n",
    "            courseCode = str(input('Enter the Subject Code '))\n",
    "            \n",
    "            if(len(courseCode) != 6):\n",
    "                print(\"Course code is invalid...!\")\n",
    "                raise ValueError()\n",
    "            else:    \n",
    "                s = Student(validStuNumber,studentName,courseCode)\n",
    "                stuList.append(s)\n",
    "                userInput = str(input('Do you want to add another student? (y/n)'))\n",
    "                if(userInput == 'y'):\n",
    "                    registerStudents()\n",
    "                if(userInput == 'n'):\n",
    "                    break\n",
    "                else:    \n",
    "                    break                \n",
    "        \n",
    "        except ValueError:\n",
    "            print(\"invalid Input...!\")        \n",
    "\n",
    "    return stuList\n",
    "\n",
    "stuNumbers=[]\n",
    "def retreve():\n",
    "    for i in range(len(stuList)):                    \n",
    "        \n",
    "    # Find the minimum element in remaining  \n",
    "    # unsorted array \n",
    "        min_idx = i \n",
    "        for j in range(i+1, len(stuList)): \n",
    "            if stuList[min_idx].studentNumber > stuList[j].studentNumber: \n",
    "                min_idx = j \n",
    "              \n",
    "    # Swap the found minimum element with  \n",
    "    # the first element         \n",
    "        stuList[i], stuList[min_idx] = stuList[min_idx], stuList[i] \n",
    "        \n",
    "    print (\"Sorted array\") \n",
    "    for i in range(len(stuList)): \n",
    "        print(\"%d\" %stuList[i].studentNumber),        \n",
    "        \n",
    "        \n",
    "        \n",
    "        \n",
    "    "
   ]
  },
  {
   "cell_type": "code",
   "execution_count": 11,
   "metadata": {},
   "outputs": [
    {
     "name": "stdout",
     "output_type": "stream",
     "text": [
      "Enter the Student Number 56765432\n",
      "Enter the Student Name dfhgjhdf\n",
      "Enter the Subject Code e45362\n",
      "Do you want to add another student? (y/n)y\n",
      "Enter the Student Number 34532456\n",
      "Enter the Student Name gbg\n",
      "Enter the Subject Code r43234\n",
      "Do you want to add another student? (y/n)y\n",
      "Enter the Student Number 45678432\n",
      "Enter the Student Name yhyy\n",
      "Enter the Subject Code r56435\n",
      "Do you want to add another student? (y/n)y\n",
      "Enter the Student Number 13456783\n",
      "Enter the Student Name jyjndb\n",
      "Enter the Subject Code r45623\n",
      "Do you want to add another student? (y/n)y\n",
      "Enter the Student Number 24567345\n",
      "Enter the Student Name yjyjyj\n",
      "Enter the Subject Code r45678\n",
      "Do you want to add another student? (y/n)y\n",
      "Enter the Student Number 34523434\n",
      "Enter the Student Name yrfeddf\n",
      "Enter the Subject Code r56895\n",
      "Do you want to add another student? (y/n)n\n"
     ]
    },
    {
     "data": {
      "text/plain": [
       "[<__main__.Student at 0x2d6f828f7f0>,\n",
       " <__main__.Student at 0x2d6f828f828>,\n",
       " <__main__.Student at 0x2d6f828fa58>,\n",
       " <__main__.Student at 0x2d6f828fbe0>,\n",
       " <__main__.Student at 0x2d6f828fc88>,\n",
       " <__main__.Student at 0x2d6f828fcf8>]"
      ]
     },
     "execution_count": 11,
     "metadata": {},
     "output_type": "execute_result"
    }
   ],
   "source": [
    "registerStudents()\n"
   ]
  },
  {
   "cell_type": "code",
   "execution_count": 12,
   "metadata": {},
   "outputs": [
    {
     "name": "stdout",
     "output_type": "stream",
     "text": [
      "Sorted array\n",
      "13456783\n",
      "24567345\n",
      "34523434\n",
      "34532456\n",
      "45678432\n",
      "56765432\n"
     ]
    }
   ],
   "source": [
    "retreve()\n"
   ]
  },
  {
   "cell_type": "code",
   "execution_count": null,
   "metadata": {},
   "outputs": [],
   "source": []
  }
 ],
 "metadata": {
  "kernelspec": {
   "display_name": "Python 3",
   "language": "python",
   "name": "python3"
  },
  "language_info": {
   "codemirror_mode": {
    "name": "ipython",
    "version": 3
   },
   "file_extension": ".py",
   "mimetype": "text/x-python",
   "name": "python",
   "nbconvert_exporter": "python",
   "pygments_lexer": "ipython3",
   "version": "3.7.3"
  }
 },
 "nbformat": 4,
 "nbformat_minor": 2
}
