{
 "cells": [
  {
   "cell_type": "code",
   "execution_count": null,
   "metadata": {},
   "outputs": [],
   "source": []
  },
  {
   "cell_type": "code",
   "execution_count": 1,
   "metadata": {},
   "outputs": [],
   "source": [
    "class Student:\n",
    "    def __init__(self, studentNumber, studentName, courseCode):\n",
    "        self.studentNumber = studentNumber;\n",
    "        self.studentName = studentName;\n",
    "        self.courseCode = courseCode;\n",
    "        \n",
    "stuList=[]    \n",
    "def registerStudents():\n",
    "    while True:\n",
    "        try:            \n",
    "            studentNumber = str(input('Enter the Student Number '))\n",
    "            \n",
    "            if(len(studentNumber) != 8):\n",
    "                print(\"Student Number length is wrong...!\")\n",
    "                raise ValueError()\n",
    "                \n",
    "                \n",
    "            validStuNumber = int(studentNumber) \n",
    "            \n",
    "            studentName = str(input('Enter the Student Name '))\n",
    "            \n",
    "            courseCode = str(input('Enter the Subject Code '))\n",
    "            \n",
    "            if(len(courseCode) != 7):\n",
    "                print(\"Course code is invalid...!\")\n",
    "                raise ValueError()\n",
    "                     \n",
    "            else:    \n",
    "                s = Student(validStuNumber,studentName,courseCode)\n",
    "                stuList.append(s)\n",
    "                userInput = str(input('Do you want to add another student? (y/n)'))\n",
    "                if(userInput == 'y'):\n",
    "                    registerStudents()\n",
    "                if(userInput == 'n'):\n",
    "                    break\n",
    "                else:    \n",
    "                    break   \n",
    "        \n",
    "        except ValueError:\n",
    "            print(\"invalid Input...!\")               \n",
    "\n",
    "    return stuList\n",
    "\n",
    "\n",
    "def retreve():\n",
    "    \n",
    "    for i in range(len(stuList)):                    \n",
    "        \n",
    "        min_index = i \n",
    "        for j in range(i+1, len(stuList)): \n",
    "            if stuList[min_index].studentNumber > stuList[j].studentNumber: \n",
    "                min_index = j              \n",
    "                \n",
    "        stuList[i], stuList[min_index] = stuList[min_index], stuList[i] \n",
    "     \n",
    "    lowesNumberStudent = stuList[0]\n",
    "    print(\"Lowest Student Number..:- %i\"%(lowesNumberStudent.studentNumber))\n",
    "    stuList.remove(lowesNumberStudent)\n",
    "    \n",
    "    userInput = str(input('Do you want to add another student? (y/n)'))\n",
    "    if(userInput == 'y'):\n",
    "        studentNumber = int(input('Enter the Student Number '))\n",
    "        studentName = str(input('Enter the Student Name '))\n",
    "        courseCode = str(input('Enter the Subject Code '))\n",
    "        s = Student(studentNumber,studentName,courseCode)\n",
    "        stuList.append(s)        \n",
    "    if(userInput == 'n'):\n",
    "        return stuList\n",
    "    \n",
    "    \n",
    "    return stuList\n",
    "    "
   ]
  },
  {
   "cell_type": "code",
   "execution_count": null,
   "metadata": {},
   "outputs": [
    {
     "name": "stdout",
     "output_type": "stream",
     "text": [
      "Enter the Student Number 45637829\n",
      "Enter the Student Name defe\n",
      "Enter the Subject Code 23ew234\n",
      "Do you want to add another student? (y/n)y\n",
      "Enter the Student Number 23123432\n",
      "Enter the Student Name dceve\n",
      "Enter the Subject Code 3e2w3e4\n",
      "Do you want to add another student? (y/n)y\n",
      "Enter the Student Number 2345643\n",
      "Student Number length is wrong...!\n",
      "invalid Input...!\n",
      "Enter the Student Number 34512343\n",
      "Enter the Student Name fvr\n",
      "Enter the Subject Code 3e2w4r5\n",
      "Do you want to add another student? (y/n)y\n",
      "Enter the Student Number 12354321\n",
      "Enter the Student Name df\n",
      "Enter the Subject Code 23w2122\n"
     ]
    }
   ],
   "source": [
    "registerStudents()"
   ]
  },
  {
   "cell_type": "code",
   "execution_count": null,
   "metadata": {},
   "outputs": [
    {
     "name": "stdout",
     "output_type": "stream",
     "text": [
      "Lowest Student Number..:- 23452345\n"
     ]
    }
   ],
   "source": [
    "retreve()"
   ]
  },
  {
   "cell_type": "code",
   "execution_count": null,
   "metadata": {},
   "outputs": [],
   "source": []
  }
 ],
 "metadata": {
  "kernelspec": {
   "display_name": "Python 3",
   "language": "python",
   "name": "python3"
  },
  "language_info": {
   "codemirror_mode": {
    "name": "ipython",
    "version": 3
   },
   "file_extension": ".py",
   "mimetype": "text/x-python",
   "name": "python",
   "nbconvert_exporter": "python",
   "pygments_lexer": "ipython3",
   "version": "3.7.3"
  }
 },
 "nbformat": 4,
 "nbformat_minor": 2
}
