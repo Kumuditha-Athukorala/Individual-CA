{
 "cells": [
  {
   "cell_type": "code",
   "execution_count": null,
   "metadata": {},
   "outputs": [],
   "source": []
  },
  {
   "cell_type": "code",
   "execution_count": 1,
   "metadata": {},
   "outputs": [],
   "source": [
    "class Student:\n",
    "    def __init__(self, studentNumber, studentName, courseCode):\n",
    "        self.studentNumber = studentNumber;\n",
    "        self.studentName = studentName;\n",
    "        self.courseCode = courseCode;\n",
    "        \n",
    "stuList=[]    \n",
    "def registerStudents():\n",
    "    studentNumber = int(input('Enter the Student Number '))\n",
    "    studentName = str(input('Enter the Student Name '))\n",
    "    courseCode = str(input('Enter the Subject Code '))\n",
    "    s = Student(studentNumber,studentName,courseCode)\n",
    "    stuList.append(s)\n",
    "    return stuList\n",
    "\n",
    "stuNumbers=[]\n",
    "def getLowestStudentNumber():\n",
    "    for st in stuList:\n",
    "        stuNumbers.append(st.studentNumber)    \n",
    "    # print(stuNumbers)\n",
    "    x = stuNumbers[0]\n",
    "    for i in stuNumbers:\n",
    "        if(x >= i):\n",
    "            x=i\n",
    "    return x; "
   ]
  },
  {
   "cell_type": "code",
   "execution_count": null,
   "metadata": {},
   "outputs": [],
   "source": []
  },
  {
   "cell_type": "code",
   "execution_count": null,
   "metadata": {},
   "outputs": [],
   "source": []
  }
 ],
 "metadata": {
  "kernelspec": {
   "display_name": "Python 3",
   "language": "python",
   "name": "python3"
  },
  "language_info": {
   "codemirror_mode": {
    "name": "ipython",
    "version": 3
   },
   "file_extension": ".py",
   "mimetype": "text/x-python",
   "name": "python",
   "nbconvert_exporter": "python",
   "pygments_lexer": "ipython3",
   "version": "3.7.3"
  }
 },
 "nbformat": 4,
 "nbformat_minor": 2
}
