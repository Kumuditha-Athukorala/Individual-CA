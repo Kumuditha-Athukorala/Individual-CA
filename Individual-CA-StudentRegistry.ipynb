{
 "cells": [
  {
   "cell_type": "code",
   "execution_count": null,
   "metadata": {},
   "outputs": [],
   "source": []
  },
  {
   "cell_type": "code",
   "execution_count": 1,
   "metadata": {},
   "outputs": [],
   "source": [
    "class Student:\n",
    "    def __init__(self, studentNumber, studentName, courseCode):\n",
    "        self.studentNumber = studentNumber;\n",
    "        self.studentName = studentName;\n",
    "        self.courseCode = courseCode;\n",
    "        \n",
    "stuList=[]    \n",
    "def registerStudents():\n",
    "    while True:\n",
    "        try:            \n",
    "            studentNumber = str(input('Enter the Student Number '))\n",
    "            \n",
    "            if(len(studentNumber) != 8):\n",
    "                print(\"Student Number length is wrong...!\")\n",
    "                raise ValueError()\n",
    "                \n",
    "            validStuNumber = int(studentNumber) \n",
    "            \n",
    "            studentName = str(input('Enter the Student Name '))\n",
    "            \n",
    "            courseCode = str(input('Enter the Subject Code '))\n",
    "            \n",
    "            if(len(courseCode) != 6):\n",
    "                print(\"Course code is invalid...!\")\n",
    "                raise ValueError()\n",
    "        \n",
    "        except ValueError:\n",
    "            print(\"invalid Input...!\")               \n",
    "        \n",
    "        else:    \n",
    "            s = Student(validStuNumber,studentName,courseCode)\n",
    "            stuList.append(s)\n",
    "            break\n",
    "    return stuList\n",
    "\n",
    "stuNumbers=[]\n",
    "def getLowestStudentNumber():\n",
    "    for st in stuList:\n",
    "        stuNumbers.append(st.studentNumber)    \n",
    "    # print(stuNumbers)\n",
    "    x = stuNumbers[0]\n",
    "    for i in stuNumbers:\n",
    "        if(x >= i):\n",
    "            x=i\n",
    "    return x; "
   ]
  },
  {
   "cell_type": "code",
   "execution_count": 3,
   "metadata": {},
   "outputs": [
    {
     "name": "stdout",
     "output_type": "stream",
     "text": [
      "Enter the Student Number a1234w12\n",
      "invalid Input...!\n",
      "Enter the Student Number 4561234590899\n",
      "Student Number length is wrong...!\n",
      "invalid Input...!\n",
      "Enter the Student Number 67834526\n",
      "Enter the Student Name Beky\n",
      "Enter the Subject Code B12345\n"
     ]
    },
    {
     "data": {
      "text/plain": [
       "[<__main__.Student at 0x222d18b2ba8>, <__main__.Student at 0x222d18b2eb8>]"
      ]
     },
     "execution_count": 3,
     "metadata": {},
     "output_type": "execute_result"
    }
   ],
   "source": [
    "registerStudents()"
   ]
  },
  {
   "cell_type": "code",
   "execution_count": null,
   "metadata": {},
   "outputs": [],
   "source": []
  }
 ],
 "metadata": {
  "kernelspec": {
   "display_name": "Python 3",
   "language": "python",
   "name": "python3"
  },
  "language_info": {
   "codemirror_mode": {
    "name": "ipython",
    "version": 3
   },
   "file_extension": ".py",
   "mimetype": "text/x-python",
   "name": "python",
   "nbconvert_exporter": "python",
   "pygments_lexer": "ipython3",
   "version": "3.7.3"
  }
 },
 "nbformat": 4,
 "nbformat_minor": 2
}
