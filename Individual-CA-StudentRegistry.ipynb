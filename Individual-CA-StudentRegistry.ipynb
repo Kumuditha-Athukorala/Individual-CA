{
 "cells": [
  {
   "cell_type": "code",
   "execution_count": null,
   "metadata": {},
   "outputs": [],
   "source": []
  },
  {
   "cell_type": "code",
   "execution_count": 11,
   "metadata": {},
   "outputs": [],
   "source": [
    "class Student:\n",
    "    def __init__(self, studentNumber, studentName, courseCode):\n",
    "        self.studentNumber = studentNumber;\n",
    "        self.studentName = studentName;\n",
    "        self.courseCode = courseCode;\n",
    "        \n",
    "stuList=[]    \n",
    "def registerStudents():\n",
    "    while True:\n",
    "        try:            \n",
    "            studentNumber = str(input('Enter the Student Number '))\n",
    "            \n",
    "            if(len(studentNumber) != 8):\n",
    "                print(\"Student Number length is wrong...!\")\n",
    "                raise ValueError()\n",
    "                \n",
    "                \n",
    "            validStuNumber = int(studentNumber) \n",
    "            \n",
    "            studentName = str(input('Enter the Student Name '))\n",
    "            \n",
    "            courseCode = str(input('Enter the Subject Code '))\n",
    "            \n",
    "            if(len(courseCode) != 7):\n",
    "                print(\"Course code is invalid...!\")\n",
    "                raise ValueError()\n",
    "                     \n",
    "            else:    \n",
    "                s = Student(validStuNumber,studentName,courseCode)\n",
    "                stuList.append(s)\n",
    "                userInput = str(input('Do you want to add another student? (y/n)'))\n",
    "                if(userInput == 'y'):\n",
    "                    registerStudents()\n",
    "                if(userInput == 'n'):\n",
    "                    break\n",
    "                else:    \n",
    "                    break   \n",
    "        \n",
    "        except ValueError:\n",
    "            print(\"invalid Input...!\")               \n",
    "\n",
    "    return stuList\n",
    "\n",
    "\n",
    "def retreve():\n",
    "    \n",
    "    for i in range(len(stuList)):                    \n",
    "        \n",
    "        min_index = i \n",
    "        for j in range(i+1, len(stuList)): \n",
    "            if stuList[min_index].studentNumber > stuList[j].studentNumber: \n",
    "                min_index = j              \n",
    "                \n",
    "        stuList[i], stuList[min_index] = stuList[min_index], stuList[i] \n",
    "     \n",
    "    lowesNumberStudent = stuList[0]\n",
    "    print(\"Lowest Student Number..:- %i\"%(lowesNumberStudent.studentNumber))\n",
    "    stuList.remove(lowesNumberStudent)\n",
    "    \n",
    "    \n",
    "    return stuList\n",
    "    "
   ]
  },
  {
   "cell_type": "code",
   "execution_count": 9,
   "metadata": {},
   "outputs": [
    {
     "name": "stdout",
     "output_type": "stream",
     "text": [
      "Enter the Student Number 43562536\n",
      "Enter the Student Name fgf\n",
      "Enter the Subject Code g543627\n",
      "Do you want to add another student? (y/n)y\n",
      "Enter the Student Number 32123212\n",
      "Enter the Student Name fvfv\n",
      "Enter the Subject Code w231232\n",
      "Do you want to add another student? (y/n)y\n",
      "Enter the Student Number 34290876\n",
      "Enter the Student Name vd\n",
      "Enter the Subject Code r4543234\n",
      "Course code is invalid...!\n",
      "invalid Input...!\n",
      "Enter the Student Number 65434565\n",
      "Enter the Student Name gtyhbjh\n",
      "Enter the Subject Code t568765\n",
      "Do you want to add another student? (y/n)y\n",
      "Enter the Student Number 54321234\n",
      "Enter the Student Name ftdh\n",
      "Enter the Subject Code t665767\n",
      "Do you want to add another student? (y/n)y\n",
      "Enter the Student Number 32123454\n",
      "Enter the Student Name hg\n",
      "Enter the Subject Code h676543\n",
      "Do you want to add another student? (y/n)n\n"
     ]
    },
    {
     "data": {
      "text/plain": [
       "[<__main__.Student at 0x2ac2a80ef60>,\n",
       " <__main__.Student at 0x2ac2a80e9e8>,\n",
       " <__main__.Student at 0x2ac2a80ed30>,\n",
       " <__main__.Student at 0x2ac2a80e710>,\n",
       " <__main__.Student at 0x2ac2a80eac8>]"
      ]
     },
     "execution_count": 9,
     "metadata": {},
     "output_type": "execute_result"
    }
   ],
   "source": [
    "registerStudents()"
   ]
  },
  {
   "cell_type": "code",
   "execution_count": 10,
   "metadata": {},
   "outputs": [
    {
     "name": "stdout",
     "output_type": "stream",
     "text": [
      "Lowest Student Number..:32123212\n"
     ]
    },
    {
     "data": {
      "text/plain": [
       "[<__main__.Student at 0x2ac2a80eac8>,\n",
       " <__main__.Student at 0x2ac2a80ef60>,\n",
       " <__main__.Student at 0x2ac2a80e710>,\n",
       " <__main__.Student at 0x2ac2a80ed30>]"
      ]
     },
     "execution_count": 10,
     "metadata": {},
     "output_type": "execute_result"
    }
   ],
   "source": [
    "retreve()"
   ]
  },
  {
   "cell_type": "code",
   "execution_count": null,
   "metadata": {},
   "outputs": [],
   "source": []
  }
 ],
 "metadata": {
  "kernelspec": {
   "display_name": "Python 3",
   "language": "python",
   "name": "python3"
  },
  "language_info": {
   "codemirror_mode": {
    "name": "ipython",
    "version": 3
   },
   "file_extension": ".py",
   "mimetype": "text/x-python",
   "name": "python",
   "nbconvert_exporter": "python",
   "pygments_lexer": "ipython3",
   "version": "3.7.3"
  }
 },
 "nbformat": 4,
 "nbformat_minor": 2
}
