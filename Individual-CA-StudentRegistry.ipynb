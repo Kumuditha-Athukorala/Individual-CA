{
 "cells": [
  {
   "cell_type": "code",
   "execution_count": null,
   "metadata": {},
   "outputs": [],
   "source": []
  },
  {
   "cell_type": "code",
   "execution_count": 5,
   "metadata": {},
   "outputs": [],
   "source": [
    "class Student:\n",
    "    def __init__(self, studentNumber, studentName, courseCode):\n",
    "        self.studentNumber = studentNumber;\n",
    "        self.studentName = studentName;\n",
    "        self.courseCode = courseCode;\n",
    "        \n",
    "stuList=[]    \n",
    "def registerStudents():\n",
    "    while True:\n",
    "        try:            \n",
    "            studentNumber = str(input('Enter the Student Number '))\n",
    "            \n",
    "            if(len(studentNumber) != 8):\n",
    "                print(\"Student Number length is wrong...!\")\n",
    "                raise ValueError()\n",
    "                \n",
    "                \n",
    "            validStuNumber = int(studentNumber) \n",
    "            \n",
    "            studentName = str(input('Enter the Student Name '))\n",
    "            \n",
    "            courseCode = str(input('Enter the Subject Code '))\n",
    "            \n",
    "            if(len(courseCode) != 7):\n",
    "                print(\"Course code is invalid...!\")\n",
    "                raise ValueError()\n",
    "                     \n",
    "            else:    \n",
    "                s = Student(validStuNumber,studentName,courseCode)\n",
    "                stuList.append(s)\n",
    "                userInput = str(input('Do you want to add another student? (y/n)'))\n",
    "                if(userInput == 'y'):\n",
    "                    registerStudents()\n",
    "                if(userInput == 'n'):\n",
    "                    break\n",
    "                else:    \n",
    "                    break   \n",
    "        \n",
    "        except ValueError:\n",
    "            print(\"invalid Input...!\")               \n",
    "\n",
    "    return stuList\n",
    "\n",
    "\n",
    "def retrieve():\n",
    "    \n",
    "    registerStudents()\n",
    "    \n",
    "    for i in range(len(stuList)):                    \n",
    "        \n",
    "        min_index = i \n",
    "        for j in range(i+1, len(stuList)): \n",
    "            if stuList[min_index].studentNumber > stuList[j].studentNumber: \n",
    "                min_index = j              \n",
    "                \n",
    "        stuList[i], stuList[min_index] = stuList[min_index], stuList[i] \n",
    "     \n",
    "    lowesNumberStudent = stuList[0]\n",
    "    print(\"Lowest Student Number..:- %i\"%(lowesNumberStudent.studentNumber))\n",
    "    stuList.remove(lowesNumberStudent)\n",
    "    \n",
    "    userInput = str(input('Do you want to add one more student? (y/n)'))\n",
    "    if(userInput == 'y'):\n",
    "        studentNumber = int(input('Enter the Student Number '))\n",
    "        studentName = str(input('Enter the Student Name '))\n",
    "        courseCode = str(input('Enter the Subject Code '))\n",
    "        s = Student(studentNumber,studentName,courseCode)\n",
    "        stuList.append(s)\n",
    "        doInsertionSort()\n",
    "    if(userInput == 'n'):\n",
    "        return stuList    \n",
    "    \n",
    "    return stuList\n",
    "\n",
    "\n",
    "def doInsertionSort(stuList):\n",
    "    \n",
    "    for i in range(1, len(stuList)): \n",
    "  \n",
    "        key = stuList[i].studentNumber \n",
    "  \n",
    "        j = i-1\n",
    "        while j >= 0 and key < stuList[j].studentNumber : \n",
    "                stuList[j + 1].studentNumber = stuList[j].studentNumber \n",
    "                j -= 1\n",
    "        stuList[j + 1].studentNumber = key\n",
    "    \n",
    "    lowesNumberStudent = stuList[0]\n",
    "    print(\"New Lowest Student Number..:- %i\"%(lowesNumberStudent.studentNumber))\n",
    "    stuList.remove(lowesNumberStudent)\n",
    "\n",
    "      "
   ]
  },
  {
   "cell_type": "code",
   "execution_count": 6,
   "metadata": {},
   "outputs": [
    {
     "name": "stdout",
     "output_type": "stream",
     "text": [
      "Enter the Student Number 45654345\n",
      "Enter the Student Name ghfg\n",
      "Enter the Subject Code 3w4e5r6\n",
      "Do you want to add another student? (y/n)y\n",
      "Enter the Student Number 23454323\n",
      "Enter the Student Name hgf\n",
      "Enter the Subject Code 3w4e5r6\n",
      "Do you want to add another student? (y/n)y\n",
      "Enter the Student Number 654321234\n",
      "Student Number length is wrong...!\n",
      "invalid Input...!\n",
      "Enter the Student Number 23432123\n",
      "Enter the Student Name hjgh\n",
      "Enter the Subject Code 7y6t870\n",
      "Do you want to add another student? (y/n)n\n",
      "Lowest Student Number..:- 23432123\n",
      "Do you want to add one more student? (y/n)n\n"
     ]
    },
    {
     "data": {
      "text/plain": [
       "[<__main__.Student at 0x1a9e2ea4780>, <__main__.Student at 0x1a9e2ea4588>]"
      ]
     },
     "execution_count": 6,
     "metadata": {},
     "output_type": "execute_result"
    }
   ],
   "source": [
    "retrieve()"
   ]
  },
  {
   "cell_type": "markdown",
   "metadata": {},
   "source": [
    "\n",
    "\n"
   ]
  },
  {
   "cell_type": "code",
   "execution_count": null,
   "metadata": {},
   "outputs": [],
   "source": [
    "\n"
   ]
  }
 ],
 "metadata": {
  "kernelspec": {
   "display_name": "Python 3",
   "language": "python",
   "name": "python3"
  },
  "language_info": {
   "codemirror_mode": {
    "name": "ipython",
    "version": 3
   },
   "file_extension": ".py",
   "mimetype": "text/x-python",
   "name": "python",
   "nbconvert_exporter": "python",
   "pygments_lexer": "ipython3",
   "version": "3.7.3"
  }
 },
 "nbformat": 4,
 "nbformat_minor": 2
}
